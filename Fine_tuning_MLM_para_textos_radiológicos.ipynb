{
  "nbformat": 4,
  "nbformat_minor": 0,
  "metadata": {
    "colab": {
      "name": "Fine-tuning MLM para textos radiológicos.ipynb",
      "provenance": []
    },
    "kernelspec": {
      "name": "python3",
      "display_name": "Python 3"
    },
    "language_info": {
      "name": "python"
    },
    "widgets": {
      "application/vnd.jupyter.widget-state+json": {
        "02d10b5d7088477eb26618742e86ff5d": {
          "model_module": "@jupyter-widgets/controls",
          "model_name": "HBoxModel",
          "model_module_version": "1.5.0",
          "state": {
            "_view_name": "HBoxView",
            "_dom_classes": [],
            "_model_name": "HBoxModel",
            "_view_module": "@jupyter-widgets/controls",
            "_model_module_version": "1.5.0",
            "_view_count": null,
            "_view_module_version": "1.5.0",
            "box_style": "",
            "layout": "IPY_MODEL_396c08f7ea264b40bcfc9e2ca4a831c2",
            "_model_module": "@jupyter-widgets/controls",
            "children": [
              "IPY_MODEL_5ed622d0d2f14ed780115a2e1fed051a",
              "IPY_MODEL_dc88adeb475d401b8190172efb1863ca",
              "IPY_MODEL_4079231032494f8085fd69169bd2eb75"
            ]
          }
        },
        "396c08f7ea264b40bcfc9e2ca4a831c2": {
          "model_module": "@jupyter-widgets/base",
          "model_name": "LayoutModel",
          "model_module_version": "1.2.0",
          "state": {
            "_view_name": "LayoutView",
            "grid_template_rows": null,
            "right": null,
            "justify_content": null,
            "_view_module": "@jupyter-widgets/base",
            "overflow": null,
            "_model_module_version": "1.2.0",
            "_view_count": null,
            "flex_flow": null,
            "width": null,
            "min_width": null,
            "border": null,
            "align_items": null,
            "bottom": null,
            "_model_module": "@jupyter-widgets/base",
            "top": null,
            "grid_column": null,
            "overflow_y": null,
            "overflow_x": null,
            "grid_auto_flow": null,
            "grid_area": null,
            "grid_template_columns": null,
            "flex": null,
            "_model_name": "LayoutModel",
            "justify_items": null,
            "grid_row": null,
            "max_height": null,
            "align_content": null,
            "visibility": null,
            "align_self": null,
            "height": null,
            "min_height": null,
            "padding": null,
            "grid_auto_rows": null,
            "grid_gap": null,
            "max_width": null,
            "order": null,
            "_view_module_version": "1.2.0",
            "grid_template_areas": null,
            "object_position": null,
            "object_fit": null,
            "grid_auto_columns": null,
            "margin": null,
            "display": null,
            "left": null
          }
        },
        "5ed622d0d2f14ed780115a2e1fed051a": {
          "model_module": "@jupyter-widgets/controls",
          "model_name": "HTMLModel",
          "model_module_version": "1.5.0",
          "state": {
            "_view_name": "HTMLView",
            "style": "IPY_MODEL_e68289a7f870464c8f6c2070cf500d33",
            "_dom_classes": [],
            "description": "",
            "_model_name": "HTMLModel",
            "placeholder": "​",
            "_view_module": "@jupyter-widgets/controls",
            "_model_module_version": "1.5.0",
            "value": "100%",
            "_view_count": null,
            "_view_module_version": "1.5.0",
            "description_tooltip": null,
            "_model_module": "@jupyter-widgets/controls",
            "layout": "IPY_MODEL_e2496447c45845b3a7b8929fc385cd26"
          }
        },
        "dc88adeb475d401b8190172efb1863ca": {
          "model_module": "@jupyter-widgets/controls",
          "model_name": "FloatProgressModel",
          "model_module_version": "1.5.0",
          "state": {
            "_view_name": "ProgressView",
            "style": "IPY_MODEL_0ae562d793bd48c0b85f58d1d2b094f3",
            "_dom_classes": [],
            "description": "",
            "_model_name": "FloatProgressModel",
            "bar_style": "success",
            "max": 2,
            "_view_module": "@jupyter-widgets/controls",
            "_model_module_version": "1.5.0",
            "value": 2,
            "_view_count": null,
            "_view_module_version": "1.5.0",
            "orientation": "horizontal",
            "min": 0,
            "description_tooltip": null,
            "_model_module": "@jupyter-widgets/controls",
            "layout": "IPY_MODEL_3d2b0e01a67d4be6a797066010e6202a"
          }
        },
        "4079231032494f8085fd69169bd2eb75": {
          "model_module": "@jupyter-widgets/controls",
          "model_name": "HTMLModel",
          "model_module_version": "1.5.0",
          "state": {
            "_view_name": "HTMLView",
            "style": "IPY_MODEL_95451d5cd40e437085847af286bb3c85",
            "_dom_classes": [],
            "description": "",
            "_model_name": "HTMLModel",
            "placeholder": "​",
            "_view_module": "@jupyter-widgets/controls",
            "_model_module_version": "1.5.0",
            "value": " 2/2 [00:00&lt;00:00, 39.20it/s]",
            "_view_count": null,
            "_view_module_version": "1.5.0",
            "description_tooltip": null,
            "_model_module": "@jupyter-widgets/controls",
            "layout": "IPY_MODEL_49dc201e23e247fea2a83d7811cf9ac8"
          }
        },
        "e68289a7f870464c8f6c2070cf500d33": {
          "model_module": "@jupyter-widgets/controls",
          "model_name": "DescriptionStyleModel",
          "model_module_version": "1.5.0",
          "state": {
            "_view_name": "StyleView",
            "_model_name": "DescriptionStyleModel",
            "description_width": "",
            "_view_module": "@jupyter-widgets/base",
            "_model_module_version": "1.5.0",
            "_view_count": null,
            "_view_module_version": "1.2.0",
            "_model_module": "@jupyter-widgets/controls"
          }
        },
        "e2496447c45845b3a7b8929fc385cd26": {
          "model_module": "@jupyter-widgets/base",
          "model_name": "LayoutModel",
          "model_module_version": "1.2.0",
          "state": {
            "_view_name": "LayoutView",
            "grid_template_rows": null,
            "right": null,
            "justify_content": null,
            "_view_module": "@jupyter-widgets/base",
            "overflow": null,
            "_model_module_version": "1.2.0",
            "_view_count": null,
            "flex_flow": null,
            "width": null,
            "min_width": null,
            "border": null,
            "align_items": null,
            "bottom": null,
            "_model_module": "@jupyter-widgets/base",
            "top": null,
            "grid_column": null,
            "overflow_y": null,
            "overflow_x": null,
            "grid_auto_flow": null,
            "grid_area": null,
            "grid_template_columns": null,
            "flex": null,
            "_model_name": "LayoutModel",
            "justify_items": null,
            "grid_row": null,
            "max_height": null,
            "align_content": null,
            "visibility": null,
            "align_self": null,
            "height": null,
            "min_height": null,
            "padding": null,
            "grid_auto_rows": null,
            "grid_gap": null,
            "max_width": null,
            "order": null,
            "_view_module_version": "1.2.0",
            "grid_template_areas": null,
            "object_position": null,
            "object_fit": null,
            "grid_auto_columns": null,
            "margin": null,
            "display": null,
            "left": null
          }
        },
        "0ae562d793bd48c0b85f58d1d2b094f3": {
          "model_module": "@jupyter-widgets/controls",
          "model_name": "ProgressStyleModel",
          "model_module_version": "1.5.0",
          "state": {
            "_view_name": "StyleView",
            "_model_name": "ProgressStyleModel",
            "description_width": "",
            "_view_module": "@jupyter-widgets/base",
            "_model_module_version": "1.5.0",
            "_view_count": null,
            "_view_module_version": "1.2.0",
            "bar_color": null,
            "_model_module": "@jupyter-widgets/controls"
          }
        },
        "3d2b0e01a67d4be6a797066010e6202a": {
          "model_module": "@jupyter-widgets/base",
          "model_name": "LayoutModel",
          "model_module_version": "1.2.0",
          "state": {
            "_view_name": "LayoutView",
            "grid_template_rows": null,
            "right": null,
            "justify_content": null,
            "_view_module": "@jupyter-widgets/base",
            "overflow": null,
            "_model_module_version": "1.2.0",
            "_view_count": null,
            "flex_flow": null,
            "width": null,
            "min_width": null,
            "border": null,
            "align_items": null,
            "bottom": null,
            "_model_module": "@jupyter-widgets/base",
            "top": null,
            "grid_column": null,
            "overflow_y": null,
            "overflow_x": null,
            "grid_auto_flow": null,
            "grid_area": null,
            "grid_template_columns": null,
            "flex": null,
            "_model_name": "LayoutModel",
            "justify_items": null,
            "grid_row": null,
            "max_height": null,
            "align_content": null,
            "visibility": null,
            "align_self": null,
            "height": null,
            "min_height": null,
            "padding": null,
            "grid_auto_rows": null,
            "grid_gap": null,
            "max_width": null,
            "order": null,
            "_view_module_version": "1.2.0",
            "grid_template_areas": null,
            "object_position": null,
            "object_fit": null,
            "grid_auto_columns": null,
            "margin": null,
            "display": null,
            "left": null
          }
        },
        "95451d5cd40e437085847af286bb3c85": {
          "model_module": "@jupyter-widgets/controls",
          "model_name": "DescriptionStyleModel",
          "model_module_version": "1.5.0",
          "state": {
            "_view_name": "StyleView",
            "_model_name": "DescriptionStyleModel",
            "description_width": "",
            "_view_module": "@jupyter-widgets/base",
            "_model_module_version": "1.5.0",
            "_view_count": null,
            "_view_module_version": "1.2.0",
            "_model_module": "@jupyter-widgets/controls"
          }
        },
        "49dc201e23e247fea2a83d7811cf9ac8": {
          "model_module": "@jupyter-widgets/base",
          "model_name": "LayoutModel",
          "model_module_version": "1.2.0",
          "state": {
            "_view_name": "LayoutView",
            "grid_template_rows": null,
            "right": null,
            "justify_content": null,
            "_view_module": "@jupyter-widgets/base",
            "overflow": null,
            "_model_module_version": "1.2.0",
            "_view_count": null,
            "flex_flow": null,
            "width": null,
            "min_width": null,
            "border": null,
            "align_items": null,
            "bottom": null,
            "_model_module": "@jupyter-widgets/base",
            "top": null,
            "grid_column": null,
            "overflow_y": null,
            "overflow_x": null,
            "grid_auto_flow": null,
            "grid_area": null,
            "grid_template_columns": null,
            "flex": null,
            "_model_name": "LayoutModel",
            "justify_items": null,
            "grid_row": null,
            "max_height": null,
            "align_content": null,
            "visibility": null,
            "align_self": null,
            "height": null,
            "min_height": null,
            "padding": null,
            "grid_auto_rows": null,
            "grid_gap": null,
            "max_width": null,
            "order": null,
            "_view_module_version": "1.2.0",
            "grid_template_areas": null,
            "object_position": null,
            "object_fit": null,
            "grid_auto_columns": null,
            "margin": null,
            "display": null,
            "left": null
          }
        }
      }
    }
  },
  "cells": [
    {
      "cell_type": "markdown",
      "metadata": {
        "id": "zI2EjaMEmHPr"
      },
      "source": [
        "# Masked language modeling (MLM) para textos radiológicos"
      ]
    },
    {
      "cell_type": "markdown",
      "metadata": {
        "id": "Ur-n76WjlbHB"
      },
      "source": [
        "**Objetivo**: Treinar um modelo Masked language modeling (MLM) para textos radiológicos para verificar performance e futuras aplicações."
      ]
    },
    {
      "cell_type": "code",
      "metadata": {
        "id": "94dj_losVQJs"
      },
      "source": [
        "!pip install transformers\n",
        "!pip install datasets"
      ],
      "execution_count": null,
      "outputs": []
    },
    {
      "cell_type": "markdown",
      "metadata": {
        "id": "HMjHyCAfkytR"
      },
      "source": [
        "# Importanto Bibliotecas"
      ]
    },
    {
      "cell_type": "code",
      "metadata": {
        "id": "Rd4Z3SIiVXBq"
      },
      "source": [
        "import transformers\n",
        "from datasets import load_dataset\n",
        "import torch\n",
        "import pandas as pd\n",
        "import numpy as np\n",
        "from transformers import AutoModelForMaskedLM, AutoTokenizer, pipeline, BertForTokenClassification\n",
        "from sklearn.model_selection import train_test_split\n",
        "from transformers import Trainer, TrainingArguments\n",
        "from torch.nn import functional as F\n",
        "from transformers import DataCollatorForLanguageModeling"
      ],
      "execution_count": 35,
      "outputs": []
    },
    {
      "cell_type": "markdown",
      "metadata": {
        "id": "7Wn5RkP9k41S"
      },
      "source": [
        "# Pré-processando o texto"
      ]
    },
    {
      "cell_type": "code",
      "metadata": {
        "id": "yLVRceh2Vrjy"
      },
      "source": [
        "checkpoint = \"neuralmind/bert-base-portuguese-cased\"\n",
        "tokenizer = AutoTokenizer.from_pretrained(checkpoint, use_fast=True)"
      ],
      "execution_count": 3,
      "outputs": []
    },
    {
      "cell_type": "code",
      "metadata": {
        "colab": {
          "base_uri": "https://localhost:8080/",
          "height": 83,
          "referenced_widgets": [
            "02d10b5d7088477eb26618742e86ff5d",
            "396c08f7ea264b40bcfc9e2ca4a831c2",
            "5ed622d0d2f14ed780115a2e1fed051a",
            "dc88adeb475d401b8190172efb1863ca",
            "4079231032494f8085fd69169bd2eb75",
            "e68289a7f870464c8f6c2070cf500d33",
            "e2496447c45845b3a7b8929fc385cd26",
            "0ae562d793bd48c0b85f58d1d2b094f3",
            "3d2b0e01a67d4be6a797066010e6202a",
            "95451d5cd40e437085847af286bb3c85",
            "49dc201e23e247fea2a83d7811cf9ac8"
          ]
        },
        "id": "rPZ_ELQLVvnx",
        "outputId": "ab219f08-237d-4d0b-9d67-8991000f4078"
      },
      "source": [
        "datasets = load_dataset(\"csv\", data_files={\"train\": '/content/drive/MyDrive/train.csv', \"validation\": '/content/drive/MyDrive/valid.csv'})"
      ],
      "execution_count": 4,
      "outputs": [
        {
          "output_type": "stream",
          "name": "stderr",
          "text": [
            "Using custom data configuration default-fd164f70e2c67d35\n",
            "Reusing dataset csv (/root/.cache/huggingface/datasets/csv/default-fd164f70e2c67d35/0.0.0/bf68a4c4aefa545d0712b2fcbb1b327f905bbe2f6425fbc5e8c25234acb9e14a)\n"
          ]
        },
        {
          "output_type": "display_data",
          "data": {
            "application/vnd.jupyter.widget-view+json": {
              "model_id": "02d10b5d7088477eb26618742e86ff5d",
              "version_minor": 0,
              "version_major": 2
            },
            "text/plain": [
              "  0%|          | 0/2 [00:00<?, ?it/s]"
            ]
          },
          "metadata": {}
        }
      ]
    },
    {
      "cell_type": "code",
      "metadata": {
        "colab": {
          "base_uri": "https://localhost:8080/"
        },
        "id": "ugkpz17yV56Z",
        "outputId": "7b5c39fc-d53a-412f-c5f4-1b201b581bf7"
      },
      "source": [
        "max_seq_length = 512\n",
        "num_proc = 4\n",
        "\n",
        "def tokenize_function(examples):\n",
        "    examples[\"text\"] = [line for line in examples[\"text\"] if len(line) > 0 and not line.isspace()]\n",
        "    return tokenizer(\n",
        "        examples[\"text\"],\n",
        "        truncation=True,\n",
        "        max_length=max_seq_length,\n",
        "    )\n",
        "  \n",
        "tokenized_dataset = datasets.map(\n",
        "    tokenize_function,\n",
        "    batched=True,\n",
        "    num_proc=num_proc,\n",
        "    remove_columns=[\"text\"],\n",
        ")"
      ],
      "execution_count": 5,
      "outputs": [
        {
          "output_type": "stream",
          "name": "stderr",
          "text": [
            "Loading cached processed dataset at /root/.cache/huggingface/datasets/csv/default-fd164f70e2c67d35/0.0.0/bf68a4c4aefa545d0712b2fcbb1b327f905bbe2f6425fbc5e8c25234acb9e14a/cache-76eba31974506314.arrow\n",
            "Loading cached processed dataset at /root/.cache/huggingface/datasets/csv/default-fd164f70e2c67d35/0.0.0/bf68a4c4aefa545d0712b2fcbb1b327f905bbe2f6425fbc5e8c25234acb9e14a/cache-a9fe965a0df55ea2.arrow\n",
            "Loading cached processed dataset at /root/.cache/huggingface/datasets/csv/default-fd164f70e2c67d35/0.0.0/bf68a4c4aefa545d0712b2fcbb1b327f905bbe2f6425fbc5e8c25234acb9e14a/cache-d6f1d85486d5b187.arrow\n",
            "Loading cached processed dataset at /root/.cache/huggingface/datasets/csv/default-fd164f70e2c67d35/0.0.0/bf68a4c4aefa545d0712b2fcbb1b327f905bbe2f6425fbc5e8c25234acb9e14a/cache-88442e9908ff4602.arrow\n",
            "Loading cached processed dataset at /root/.cache/huggingface/datasets/csv/default-fd164f70e2c67d35/0.0.0/bf68a4c4aefa545d0712b2fcbb1b327f905bbe2f6425fbc5e8c25234acb9e14a/cache-11f153a31a34beaf.arrow\n",
            "Loading cached processed dataset at /root/.cache/huggingface/datasets/csv/default-fd164f70e2c67d35/0.0.0/bf68a4c4aefa545d0712b2fcbb1b327f905bbe2f6425fbc5e8c25234acb9e14a/cache-aba7f8c52816c66c.arrow\n",
            "Loading cached processed dataset at /root/.cache/huggingface/datasets/csv/default-fd164f70e2c67d35/0.0.0/bf68a4c4aefa545d0712b2fcbb1b327f905bbe2f6425fbc5e8c25234acb9e14a/cache-522a7388482cd125.arrow\n",
            "Loading cached processed dataset at /root/.cache/huggingface/datasets/csv/default-fd164f70e2c67d35/0.0.0/bf68a4c4aefa545d0712b2fcbb1b327f905bbe2f6425fbc5e8c25234acb9e14a/cache-d469aaac5f81cda4.arrow\n"
          ]
        }
      ]
    },
    {
      "cell_type": "code",
      "metadata": {
        "colab": {
          "base_uri": "https://localhost:8080/"
        },
        "id": "Um9r_xUDWN-w",
        "outputId": "9b0a6a30-482f-40ae-e964-c14eb55f6590"
      },
      "source": [
        "def group_texts(examples):\n",
        "    # Concatenate all texts.\n",
        "    concatenated_examples = {k: sum(examples[k], []) for k in examples.keys()}\n",
        "    total_length = len(concatenated_examples[list(examples.keys())[0]])\n",
        "    # We drop the small remainder, we could add padding if the model supported it instead of this drop,\n",
        "    # you can customize this part to your needs.\n",
        "    total_length = (total_length // max_seq_length) * max_seq_length\n",
        "    # Split by chunks of max_len.\n",
        "    result = {\n",
        "        k: [t[i : i + max_seq_length] for i in range(0, total_length, max_seq_length)]\n",
        "        for k, t in concatenated_examples.items()\n",
        "    }\n",
        "    result[\"labels\"] = result[\"input_ids\"].copy()\n",
        "    return result\n",
        "\n",
        "# Note that with `batched=True`, this map processes 1,000 texts together,\n",
        "# so group_texts throws away a remainder for each of those groups of 1,000 texts.\n",
        "# You can adjust that batch_size here but a higher value might be slower to preprocess.\n",
        "\n",
        "tokenized_dataset = tokenized_dataset.map(\n",
        "    group_texts,\n",
        "    batched=True,\n",
        "    num_proc=num_proc,\n",
        ")"
      ],
      "execution_count": 6,
      "outputs": [
        {
          "output_type": "stream",
          "name": "stderr",
          "text": [
            "Loading cached processed dataset at /root/.cache/huggingface/datasets/csv/default-fd164f70e2c67d35/0.0.0/bf68a4c4aefa545d0712b2fcbb1b327f905bbe2f6425fbc5e8c25234acb9e14a/cache-ab7a6316d3a88d94.arrow\n",
            "Loading cached processed dataset at /root/.cache/huggingface/datasets/csv/default-fd164f70e2c67d35/0.0.0/bf68a4c4aefa545d0712b2fcbb1b327f905bbe2f6425fbc5e8c25234acb9e14a/cache-fb916397e1d6135d.arrow\n",
            "Loading cached processed dataset at /root/.cache/huggingface/datasets/csv/default-fd164f70e2c67d35/0.0.0/bf68a4c4aefa545d0712b2fcbb1b327f905bbe2f6425fbc5e8c25234acb9e14a/cache-10d7c5d34336d917.arrow\n",
            "Loading cached processed dataset at /root/.cache/huggingface/datasets/csv/default-fd164f70e2c67d35/0.0.0/bf68a4c4aefa545d0712b2fcbb1b327f905bbe2f6425fbc5e8c25234acb9e14a/cache-aeca663d70a1d421.arrow\n",
            "Loading cached processed dataset at /root/.cache/huggingface/datasets/csv/default-fd164f70e2c67d35/0.0.0/bf68a4c4aefa545d0712b2fcbb1b327f905bbe2f6425fbc5e8c25234acb9e14a/cache-6d3bf2212d9088b9.arrow\n",
            "Loading cached processed dataset at /root/.cache/huggingface/datasets/csv/default-fd164f70e2c67d35/0.0.0/bf68a4c4aefa545d0712b2fcbb1b327f905bbe2f6425fbc5e8c25234acb9e14a/cache-d8a2f1d1d8848a3b.arrow\n",
            "Loading cached processed dataset at /root/.cache/huggingface/datasets/csv/default-fd164f70e2c67d35/0.0.0/bf68a4c4aefa545d0712b2fcbb1b327f905bbe2f6425fbc5e8c25234acb9e14a/cache-7bd96de78d7efac2.arrow\n",
            "Loading cached processed dataset at /root/.cache/huggingface/datasets/csv/default-fd164f70e2c67d35/0.0.0/bf68a4c4aefa545d0712b2fcbb1b327f905bbe2f6425fbc5e8c25234acb9e14a/cache-8cdfb2db080419b8.arrow\n"
          ]
        }
      ]
    },
    {
      "cell_type": "code",
      "metadata": {
        "colab": {
          "base_uri": "https://localhost:8080/"
        },
        "id": "gAZf9K6VWP-Q",
        "outputId": "a352f2a9-ec83-4aa3-d399-057e91539de6"
      },
      "source": [
        "model = AutoModelForMaskedLM.from_pretrained(checkpoint)"
      ],
      "execution_count": 7,
      "outputs": [
        {
          "output_type": "stream",
          "name": "stderr",
          "text": [
            "Some weights of the model checkpoint at neuralmind/bert-base-portuguese-cased were not used when initializing BertForMaskedLM: ['cls.seq_relationship.bias', 'cls.seq_relationship.weight']\n",
            "- This IS expected if you are initializing BertForMaskedLM from the checkpoint of a model trained on another task or with another architecture (e.g. initializing a BertForSequenceClassification model from a BertForPreTraining model).\n",
            "- This IS NOT expected if you are initializing BertForMaskedLM from the checkpoint of a model that you expect to be exactly identical (initializing a BertForSequenceClassification model from a BertForSequenceClassification model).\n"
          ]
        }
      ]
    },
    {
      "cell_type": "code",
      "metadata": {
        "id": "BbVCLPbxWUEQ"
      },
      "source": [
        "model_name = checkpoint.split(\"/\")[-1]\n",
        "training_args = TrainingArguments(\n",
        "    f\"{model_name}-finetuned-CTReports\",\n",
        "    evaluation_strategy = \"epoch\",\n",
        "    logging_strategy= \"epoch\",\n",
        "    learning_rate=2e-5,\n",
        "    weight_decay=0.01,\n",
        ")"
      ],
      "execution_count": 8,
      "outputs": []
    },
    {
      "cell_type": "code",
      "metadata": {
        "id": "S3byOg5SWdd5"
      },
      "source": [
        "data_collator = DataCollatorForLanguageModeling(tokenizer=tokenizer, mlm_probability=0.15)"
      ],
      "execution_count": 10,
      "outputs": []
    },
    {
      "cell_type": "markdown",
      "metadata": {
        "id": "OkP9ymMrk9tM"
      },
      "source": [
        "# Treinando o modelo"
      ]
    },
    {
      "cell_type": "code",
      "metadata": {
        "id": "M8xQe1fLWluJ"
      },
      "source": [
        "trainer = Trainer(\n",
        "    model=model,\n",
        "    args=training_args,\n",
        "    train_dataset=tokenized_dataset[\"train\"],\n",
        "    eval_dataset=tokenized_dataset[\"validation\"],\n",
        "    data_collator=data_collator,\n",
        ")"
      ],
      "execution_count": 11,
      "outputs": []
    },
    {
      "cell_type": "code",
      "metadata": {
        "colab": {
          "base_uri": "https://localhost:8080/",
          "height": 562
        },
        "id": "VUWBcJFeWpt5",
        "outputId": "7c445116-d902-42b1-8bbc-b24a13847bb0"
      },
      "source": [
        "trainer.train()"
      ],
      "execution_count": 12,
      "outputs": [
        {
          "output_type": "stream",
          "name": "stderr",
          "text": [
            "***** Running training *****\n",
            "  Num examples = 1122\n",
            "  Num Epochs = 3\n",
            "  Instantaneous batch size per device = 8\n",
            "  Total train batch size (w. parallel, distributed & accumulation) = 8\n",
            "  Gradient Accumulation steps = 1\n",
            "  Total optimization steps = 423\n"
          ]
        },
        {
          "output_type": "display_data",
          "data": {
            "text/html": [
              "\n",
              "    <div>\n",
              "      \n",
              "      <progress value='423' max='423' style='width:300px; height:20px; vertical-align: middle;'></progress>\n",
              "      [423/423 14:42, Epoch 3/3]\n",
              "    </div>\n",
              "    <table border=\"1\" class=\"dataframe\">\n",
              "  <thead>\n",
              "    <tr style=\"text-align: left;\">\n",
              "      <th>Epoch</th>\n",
              "      <th>Training Loss</th>\n",
              "      <th>Validation Loss</th>\n",
              "    </tr>\n",
              "  </thead>\n",
              "  <tbody>\n",
              "    <tr>\n",
              "      <td>1</td>\n",
              "      <td>1.828600</td>\n",
              "      <td>0.952228</td>\n",
              "    </tr>\n",
              "    <tr>\n",
              "      <td>2</td>\n",
              "      <td>0.964800</td>\n",
              "      <td>0.813143</td>\n",
              "    </tr>\n",
              "    <tr>\n",
              "      <td>3</td>\n",
              "      <td>0.877900</td>\n",
              "      <td>0.781739</td>\n",
              "    </tr>\n",
              "  </tbody>\n",
              "</table><p>"
            ],
            "text/plain": [
              "<IPython.core.display.HTML object>"
            ]
          },
          "metadata": {}
        },
        {
          "output_type": "stream",
          "name": "stderr",
          "text": [
            "***** Running Evaluation *****\n",
            "  Num examples = 553\n",
            "  Batch size = 8\n",
            "***** Running Evaluation *****\n",
            "  Num examples = 553\n",
            "  Batch size = 8\n",
            "***** Running Evaluation *****\n",
            "  Num examples = 553\n",
            "  Batch size = 8\n",
            "\n",
            "\n",
            "Training completed. Do not forget to share your model on huggingface.co/models =)\n",
            "\n",
            "\n"
          ]
        },
        {
          "output_type": "execute_result",
          "data": {
            "text/plain": [
              "TrainOutput(global_step=423, training_loss=1.2237616103873468, metrics={'train_runtime': 884.4963, 'train_samples_per_second': 3.806, 'train_steps_per_second': 0.478, 'total_flos': 885939872108544.0, 'train_loss': 1.2237616103873468, 'epoch': 3.0})"
            ]
          },
          "metadata": {},
          "execution_count": 12
        }
      ]
    },
    {
      "cell_type": "code",
      "metadata": {
        "colab": {
          "base_uri": "https://localhost:8080/"
        },
        "id": "GpMKjPdxhzIM",
        "outputId": "49021f86-56af-4b54-aa00-16c387e4b0ce"
      },
      "source": [
        "trainer.save_model('/content/drive/MyDrive/' + f\"{model_name}-finetuned-MLM-Signs\")"
      ],
      "execution_count": 13,
      "outputs": [
        {
          "output_type": "stream",
          "name": "stderr",
          "text": [
            "Saving model checkpoint to /content/drive/MyDrive/bert-base-portuguese-cased-finetuned-MLM-Signs\n",
            "Configuration saved in /content/drive/MyDrive/bert-base-portuguese-cased-finetuned-MLM-Signs/config.json\n",
            "Model weights saved in /content/drive/MyDrive/bert-base-portuguese-cased-finetuned-MLM-Signs/pytorch_model.bin\n"
          ]
        }
      ]
    },
    {
      "cell_type": "code",
      "metadata": {
        "colab": {
          "base_uri": "https://localhost:8080/"
        },
        "id": "D8NC0SRmh55N",
        "outputId": "eac8c653-444d-4dda-9287-717c1910178e"
      },
      "source": [
        "model_sign = AutoModelForMaskedLM.from_pretrained(\"/content/drive/MyDrive/bert-base-portuguese-cased-finetuned-MLM-Signs\")"
      ],
      "execution_count": 30,
      "outputs": [
        {
          "output_type": "stream",
          "name": "stderr",
          "text": [
            "loading configuration file /content/drive/MyDrive/bert-base-portuguese-cased-finetuned-MLM-Signs/config.json\n",
            "Model config BertConfig {\n",
            "  \"_name_or_path\": \"neuralmind/bert-base-portuguese-cased\",\n",
            "  \"architectures\": [\n",
            "    \"BertForMaskedLM\"\n",
            "  ],\n",
            "  \"attention_probs_dropout_prob\": 0.1,\n",
            "  \"classifier_dropout\": null,\n",
            "  \"directionality\": \"bidi\",\n",
            "  \"hidden_act\": \"gelu\",\n",
            "  \"hidden_dropout_prob\": 0.1,\n",
            "  \"hidden_size\": 768,\n",
            "  \"initializer_range\": 0.02,\n",
            "  \"intermediate_size\": 3072,\n",
            "  \"layer_norm_eps\": 1e-12,\n",
            "  \"max_position_embeddings\": 512,\n",
            "  \"model_type\": \"bert\",\n",
            "  \"num_attention_heads\": 12,\n",
            "  \"num_hidden_layers\": 12,\n",
            "  \"output_past\": true,\n",
            "  \"pad_token_id\": 0,\n",
            "  \"pooler_fc_size\": 768,\n",
            "  \"pooler_num_attention_heads\": 12,\n",
            "  \"pooler_num_fc_layers\": 3,\n",
            "  \"pooler_size_per_head\": 128,\n",
            "  \"pooler_type\": \"first_token_transform\",\n",
            "  \"position_embedding_type\": \"absolute\",\n",
            "  \"torch_dtype\": \"float32\",\n",
            "  \"transformers_version\": \"4.12.5\",\n",
            "  \"type_vocab_size\": 2,\n",
            "  \"use_cache\": true,\n",
            "  \"vocab_size\": 29794\n",
            "}\n",
            "\n",
            "loading weights file /content/drive/MyDrive/bert-base-portuguese-cased-finetuned-MLM-Signs/pytorch_model.bin\n",
            "All model checkpoint weights were used when initializing BertForMaskedLM.\n",
            "\n",
            "All the weights of BertForMaskedLM were initialized from the model checkpoint at /content/drive/MyDrive/bert-base-portuguese-cased-finetuned-MLM-Signs.\n",
            "If your task is similar to the task the model of the checkpoint was trained on, you can already use BertForMaskedLM for predictions without further training.\n"
          ]
        }
      ]
    },
    {
      "cell_type": "code",
      "metadata": {
        "colab": {
          "base_uri": "https://localhost:8080/"
        },
        "id": "b1-mAteoiV-F",
        "outputId": "61fab3da-d5cc-48b4-bac6-66ad136b54e6"
      },
      "source": [
        "pipe = pipeline('fill-mask', model=model_sign, tokenizer=tokenizer)\n",
        "\n",
        "pipe('aorta [MASK] de calibre mantido')"
      ],
      "execution_count": 33,
      "outputs": [
        {
          "output_type": "execute_result",
          "data": {
            "text/plain": [
              "[{'score': 0.14783015847206116,\n",
              "  'sequence': 'aorta direita de calibre mantido',\n",
              "  'token': 5065,\n",
              "  'token_str': 'direita'},\n",
              " {'score': 0.13071046769618988,\n",
              "  'sequence': 'aorta : de calibre mantido',\n",
              "  'token': 131,\n",
              "  'token_str': ':'},\n",
              " {'score': 0.09723420441150665,\n",
              "  'sequence': 'aorta dorsal de calibre mantido',\n",
              "  'token': 21966,\n",
              "  'token_str': 'dorsal'},\n",
              " {'score': 0.05238368362188339,\n",
              "  'sequence': 'aorta esquerda de calibre mantido',\n",
              "  'token': 4573,\n",
              "  'token_str': 'esquerda'},\n",
              " {'score': 0.048720721155405045,\n",
              "  'sequence': 'aorta cardíaca de calibre mantido',\n",
              "  'token': 20146,\n",
              "  'token_str': 'cardíaca'}]"
            ]
          },
          "metadata": {},
          "execution_count": 33
        }
      ]
    }
  ]
}