{
 "cells": [
  {
   "cell_type": "code",
   "execution_count": 5,
   "metadata": {},
   "outputs": [],
   "source": [
    "import torch\n",
    "import numpy as np\n",
    "from transformers import BertTokenizer, BertForTokenClassification, BertConfig\n",
    "from transformers import AutoTokenizer, AutoModelForTokenClassification\n",
    "import nltk    \n",
    "from nltk import tokenize  \n",
    "from transformers import pipeline"
   ]
  },
  {
   "cell_type": "code",
   "execution_count": 6,
   "metadata": {},
   "outputs": [],
   "source": [
    "MODELS_DIR = [\n",
    "    r\"pucpr/clinicalnerpt-diagnostic\",\n",
    "    r\"pucpr/clinicalnerpt-disease\",           \n",
    "    r\"pucpr/clinicalnerpt-sign\",\n",
    "    r\"pucpr/clinicalnerpt-disorder\",             \n",
    "    r\"pucpr/clinicalnerpt-finding\"   \n",
    "]"
   ]
  },
  {
   "cell_type": "code",
   "execution_count": 221,
   "metadata": {},
   "outputs": [
    {
     "data": {
      "text/html": [
       "<div>\n",
       "<style scoped>\n",
       "    .dataframe tbody tr th:only-of-type {\n",
       "        vertical-align: middle;\n",
       "    }\n",
       "\n",
       "    .dataframe tbody tr th {\n",
       "        vertical-align: top;\n",
       "    }\n",
       "\n",
       "    .dataframe thead th {\n",
       "        text-align: right;\n",
       "    }\n",
       "</style>\n",
       "<table border=\"1\" class=\"dataframe\">\n",
       "  <thead>\n",
       "    <tr style=\"text-align: right;\">\n",
       "      <th></th>\n",
       "      <th>docid</th>\n",
       "      <th>modalidade</th>\n",
       "      <th>tipo_exame</th>\n",
       "      <th>laudo_completo</th>\n",
       "    </tr>\n",
       "  </thead>\n",
       "  <tbody>\n",
       "    <tr>\n",
       "      <th>0</th>\n",
       "      <td>189988</td>\n",
       "      <td>CT</td>\n",
       "      <td>TOMOGRAFIA COMPUTADORIZADA DO TÓRAX</td>\n",
       "      <td>o estudo tomográfico computadorizado do tórax ...</td>\n",
       "    </tr>\n",
       "    <tr>\n",
       "      <th>1</th>\n",
       "      <td>376443</td>\n",
       "      <td>CT</td>\n",
       "      <td>TOMOGRAFIA COMPUTADORIZADA DO TÓRAX</td>\n",
       "      <td>realizados cortes tomográficos axiais com técn...</td>\n",
       "    </tr>\n",
       "    <tr>\n",
       "      <th>2</th>\n",
       "      <td>1843933</td>\n",
       "      <td>CT</td>\n",
       "      <td>TOMOGRAFIA COMPUTADORIZADA DO TÓRAX</td>\n",
       "      <td>tecnica: \\n o estudo tomográfico computadoriza...</td>\n",
       "    </tr>\n",
       "    <tr>\n",
       "      <th>3</th>\n",
       "      <td>454421</td>\n",
       "      <td>CT</td>\n",
       "      <td>TOMOGRAFIA COMPUTADORIZADA DO TÓRAX</td>\n",
       "      <td>o estudo tomográfico computadorizado do tórax ...</td>\n",
       "    </tr>\n",
       "    <tr>\n",
       "      <th>4</th>\n",
       "      <td>61595</td>\n",
       "      <td>CT</td>\n",
       "      <td>TOMOGRAFIA COMPUTADORIZADA DO TÓRAX</td>\n",
       "      <td>realizada tomografia computadorizada do tórax ...</td>\n",
       "    </tr>\n",
       "    <tr>\n",
       "      <th>...</th>\n",
       "      <td>...</td>\n",
       "      <td>...</td>\n",
       "      <td>...</td>\n",
       "      <td>...</td>\n",
       "    </tr>\n",
       "    <tr>\n",
       "      <th>4995</th>\n",
       "      <td>948854</td>\n",
       "      <td>CT</td>\n",
       "      <td>TOMOGRAFIA COMPUTADORIZADA DO TÓRAX</td>\n",
       "      <td>tc do tórax \\n técnica: obtidas imagens axiais...</td>\n",
       "    </tr>\n",
       "    <tr>\n",
       "      <th>4996</th>\n",
       "      <td>1668375</td>\n",
       "      <td>CR</td>\n",
       "      <td>RADIOGRAFIA DO TÓRAX</td>\n",
       "      <td>partes moles sem particularidades. \\n sinais d...</td>\n",
       "    </tr>\n",
       "    <tr>\n",
       "      <th>4997</th>\n",
       "      <td>527535</td>\n",
       "      <td>CT</td>\n",
       "      <td>TOMOGRAFIA COMPUTADORIZADA DO TÓRAX</td>\n",
       "      <td>o estudo tomográfico computadorizado do tórax ...</td>\n",
       "    </tr>\n",
       "    <tr>\n",
       "      <th>4998</th>\n",
       "      <td>131674</td>\n",
       "      <td>CT</td>\n",
       "      <td>TOMOGRAFIA COMPUTADORIZADA DO TÓRAX</td>\n",
       "      <td>infiltrado intersticio-alveolar com broncogram...</td>\n",
       "    </tr>\n",
       "    <tr>\n",
       "      <th>4999</th>\n",
       "      <td>1163034</td>\n",
       "      <td>CT</td>\n",
       "      <td>TOMOGRAFIA COMPUTADORIZADA DO TÓRAX</td>\n",
       "      <td>tecnica: \\n o estudo tomográfico computadoriza...</td>\n",
       "    </tr>\n",
       "  </tbody>\n",
       "</table>\n",
       "<p>5000 rows × 4 columns</p>\n",
       "</div>"
      ],
      "text/plain": [
       "        docid modalidade                           tipo_exame  \\\n",
       "0      189988         CT  TOMOGRAFIA COMPUTADORIZADA DO TÓRAX   \n",
       "1      376443         CT  TOMOGRAFIA COMPUTADORIZADA DO TÓRAX   \n",
       "2     1843933         CT  TOMOGRAFIA COMPUTADORIZADA DO TÓRAX   \n",
       "3      454421         CT  TOMOGRAFIA COMPUTADORIZADA DO TÓRAX   \n",
       "4       61595         CT  TOMOGRAFIA COMPUTADORIZADA DO TÓRAX   \n",
       "...       ...        ...                                  ...   \n",
       "4995   948854         CT  TOMOGRAFIA COMPUTADORIZADA DO TÓRAX   \n",
       "4996  1668375         CR                 RADIOGRAFIA DO TÓRAX   \n",
       "4997   527535         CT  TOMOGRAFIA COMPUTADORIZADA DO TÓRAX   \n",
       "4998   131674         CT  TOMOGRAFIA COMPUTADORIZADA DO TÓRAX   \n",
       "4999  1163034         CT  TOMOGRAFIA COMPUTADORIZADA DO TÓRAX   \n",
       "\n",
       "                                         laudo_completo  \n",
       "0     o estudo tomográfico computadorizado do tórax ...  \n",
       "1     realizados cortes tomográficos axiais com técn...  \n",
       "2     tecnica: \\n o estudo tomográfico computadoriza...  \n",
       "3     o estudo tomográfico computadorizado do tórax ...  \n",
       "4     realizada tomografia computadorizada do tórax ...  \n",
       "...                                                 ...  \n",
       "4995  tc do tórax \\n técnica: obtidas imagens axiais...  \n",
       "4996  partes moles sem particularidades. \\n sinais d...  \n",
       "4997  o estudo tomográfico computadorizado do tórax ...  \n",
       "4998  infiltrado intersticio-alveolar com broncogram...  \n",
       "4999  tecnica: \\n o estudo tomográfico computadoriza...  \n",
       "\n",
       "[5000 rows x 4 columns]"
      ]
     },
     "execution_count": 221,
     "metadata": {},
     "output_type": "execute_result"
    }
   ],
   "source": [
    "dataset = pd.read_csv('sample_laudos.csv')\n",
    "dataset"
   ]
  },
  {
   "cell_type": "code",
   "execution_count": 210,
   "metadata": {},
   "outputs": [],
   "source": [
    "def sent_to_words(sent):\n",
    "    sent = re.sub(\"\\s+\", \" \", sent)  # remove newline chars\n",
    "    sent = re.sub(\"\\'\", \"\", sent)  # remove single quotes\n",
    "    sent = re.sub(\"  \", \" \", sent)  # remove single quotes\n",
    "    sent = re.sub(\"\\(\", \"\", sent)  # remove single quotes\n",
    "    sent = re.sub(\"\\)\", \"\", sent)  # remove single quotes\n",
    "    #sent = simple_preprocess(str(sent), deacc=True) \n",
    "    return sent"
   ]
  },
  {
   "cell_type": "code",
   "execution_count": 237,
   "metadata": {},
   "outputs": [
    {
     "data": {
      "text/plain": [
       "'realizados cortes axiais sem a injeção de meio de contraste iodado endovenoso: estudo comparativo com exame anterior do dia 04 04 2014 mostra: permanecem extensas áreas de consolidações pulmonares com broncograma aéreos de permeio comprometendo os lobos superior médio e inferior do pulmão direito com atelectasias adjacentes provavelmente relacionada a processo inflamatório infeccioso na dependência da correlação clínico laboratorial. minimo derrame pleural bilateral menor em relação a estudo anterior. opacidades atelectásicas nos lobos inferiores. estruturas vasculares mediastinais de calibre e trajeto preservados. coração com dimensões preservadas. ausência de linfonodomegalias mediastinais. traquéia e brônquios principais pérvios e com calibre preservado. ausência de derrame pericardico significativo.'"
      ]
     },
     "execution_count": 237,
     "metadata": {},
     "output_type": "execute_result"
    }
   ],
   "source": [
    "test_sentence = sent_to_words(dataset['laudo_completo'][67])\n",
    "test_sentence"
   ]
  },
  {
   "cell_type": "code",
   "execution_count": 272,
   "metadata": {},
   "outputs": [],
   "source": [
    "all_entities = []\n",
    "entities_index = []\n",
    "\n",
    "for model_name in MODELS_DIR:\n",
    "    \n",
    "    model = BertForTokenClassification.from_pretrained(model_name)\n",
    "    \n",
    "    tokenizer = BertTokenizer.from_pretrained(\"pucpr/biobertpt-all\", do_lower_case=True)\n",
    "    \n",
    "    config = BertConfig.from_pretrained(model_name)\n",
    "    dic_label=config.id2label\n",
    "\n",
    "    tokenized_sentence = tokenizer.encode(test_sentence)\n",
    "\n",
    "    input_ids = torch.tensor([tokenized_sentence])#.cuda()\n",
    "\n",
    "    with torch.no_grad():\n",
    "        output = model(input_ids)\n",
    "    \n",
    "    label_indices = np.argmax(output[0].to('cpu').numpy(), axis=2)\n",
    "\n",
    "    idx = 1\n",
    "    enc = [tokenizer.encode(x, add_special_tokens=False) for x in test_sentence.split()]\n",
    "    desired_output = []\n",
    "\n",
    "    for token in enc:\n",
    "        tokenoutput = []\n",
    "        for ids in token:\n",
    "            tokenoutput.append(idx)\n",
    "            idx +=1\n",
    "        desired_output.append(tokenoutput)\n",
    "\n",
    "    word_id_list = []\n",
    "    labels = []\n",
    "    teste = []\n",
    "    \n",
    "    for word_id in desired_output:\n",
    "        idx = word_id[-1]\n",
    "        labels.append(label_indices[0][idx])\n",
    "        entities = [dic_label.get(e) for e in labels]\n",
    "        \n",
    "    for v in entities:\n",
    "        if not 'O' in v:\n",
    "            entities_index.append(entities.index(v))\n",
    "    \n",
    "    all_entities.append(entities)"
   ]
  },
  {
   "cell_type": "code",
   "execution_count": 264,
   "metadata": {
    "scrolled": false
   },
   "outputs": [
    {
     "name": "stdout",
     "output_type": "stream",
     "text": [
      "[['O', 'B-DiagnosticProcedure', 'I-DiagnosticProcedure', 'O', 'O', 'O', 'O', 'O', 'O', 'O', 'O', 'O', 'O', 'O', 'O', 'O', 'O', 'O', 'O', 'O', 'O', 'O', 'O', 'O', 'O', 'O', 'O', 'O', 'O', 'O', 'O', 'O', 'O', 'O', 'O', 'O', 'O', 'O', 'O', 'O', 'O', 'O', 'O', 'O', 'O', 'O', 'O', 'O', 'O', 'O', 'O', 'O', 'O', 'O', 'O', 'O', 'O', 'O', 'O', 'O', 'O', 'O', 'O', 'O', 'O', 'O', 'O', 'O', 'O', 'O', 'O', 'O', 'O', 'O', 'O', 'O', 'O', 'O', 'O', 'O', 'O', 'O', 'O', 'O', 'O', 'O', 'O', 'O', 'O', 'O', 'O', 'O', 'O', 'O', 'O', 'O', 'O', 'O', 'O', 'O', 'O', 'O', 'O', 'O'], ['O', 'O', 'O', 'O', 'O', 'O', 'O', 'O', 'O', 'O', 'O', 'O', 'O', 'O', 'O', 'O', 'O', 'O', 'O', 'O', 'O', 'O', 'O', 'O', 'O', 'O', 'O', 'O', 'O', 'O', 'O', 'O', 'O', 'O', 'O', 'O', 'O', 'O', 'O', 'O', 'O', 'O', 'O', 'O', 'O', 'O', 'O', 'O', 'O', 'O', 'O', 'O', 'O', 'O', 'O', 'O', 'O', 'O', 'O', 'O', 'O', 'O', 'O', 'O', 'O', 'O', 'O', 'O', 'O', 'O', 'O', 'O', 'O', 'O', 'O', 'O', 'O', 'O', 'O', 'O', 'O', 'O', 'O', 'O', 'O', 'O', 'O', 'O', 'O', 'O', 'O', 'O', 'O', 'O', 'O', 'O', 'O', 'O', 'O', 'O', 'O', 'O', 'O', 'O'], ['O', 'O', 'O', 'O', 'O', 'O', 'O', 'O', 'O', 'O', 'O', 'O', 'O', 'O', 'O', 'O', 'O', 'O', 'O', 'O', 'O', 'O', 'O', 'O', 'O', 'O', 'O', 'O', 'O', 'O', 'O', 'O', 'O', 'O', 'O', 'O', 'O', 'O', 'O', 'O', 'O', 'O', 'O', 'O', 'O', 'O', 'O', 'O', 'O', 'O', 'B-SignOrSymptom', 'I-SignOrSymptom', 'I-SignOrSymptom', 'O', 'O', 'O', 'O', 'O', 'O', 'O', 'O', 'O', 'O', 'O', 'O', 'O', 'O', 'O', 'O', 'O', 'O', 'O', 'O', 'O', 'O', 'O', 'O', 'O', 'O', 'O', 'O', 'O', 'O', 'O', 'O', 'O', 'O', 'O', 'O', 'O', 'O', 'O', 'O', 'O', 'O', 'O', 'O', 'O', 'O', 'O', 'O', 'O', 'O', 'O'], ['O', 'O', 'O', 'O', 'O', 'O', 'O', 'O', 'O', 'O', 'O', 'O', 'O', 'O', 'O', 'O', 'O', 'O', 'O', 'O', 'O', 'O', 'O', 'O', 'O', 'O', 'O', 'O', 'O', 'O', 'O', 'O', 'O', 'O', 'O', 'O', 'O', 'O', 'O', 'O', 'O', 'O', 'O', 'O', 'O', 'O', 'O', 'O', 'O', 'O', 'B-Disorder', 'I-Disorder', 'I-Disorder', 'O', 'O', 'O', 'O', 'O', 'O', 'O', 'O', 'O', 'O', 'O', 'O', 'O', 'O', 'O', 'O', 'O', 'O', 'O', 'O', 'O', 'O', 'O', 'O', 'O', 'O', 'O', 'O', 'O', 'O', 'O', 'O', 'O', 'O', 'O', 'B-Disorder', 'O', 'O', 'O', 'O', 'O', 'O', 'O', 'O', 'O', 'O', 'O', 'O', 'O', 'O', 'O'], ['O', 'O', 'O', 'O', 'O', 'O', 'O', 'O', 'O', 'O', 'O', 'O', 'O', 'O', 'O', 'O', 'O', 'O', 'O', 'O', 'O', 'O', 'O', 'O', 'O', 'O', 'O', 'O', 'O', 'O', 'O', 'O', 'O', 'O', 'O', 'O', 'O', 'O', 'O', 'O', 'O', 'O', 'O', 'O', 'O', 'O', 'O', 'O', 'O', 'O', 'O', 'O', 'O', 'O', 'O', 'O', 'O', 'O', 'O', 'O', 'O', 'O', 'O', 'O', 'O', 'O', 'O', 'O', 'O', 'O', 'O', 'O', 'O', 'O', 'O', 'O', 'O', 'O', 'B-Finding', 'I-Finding', 'I-Finding', 'O', 'B-Finding', 'I-Finding', 'I-Finding', 'O', 'O', 'O', 'O', 'O', 'O', 'O', 'O', 'O', 'O', 'O', 'O', 'B-Finding', 'O', 'O', 'O', 'O', 'O', 'O']]\n"
     ]
    }
   ],
   "source": [
    "for p in all_entities:\n",
    "    "
   ]
  },
  {
   "cell_type": "code",
   "execution_count": 274,
   "metadata": {},
   "outputs": [
    {
     "name": "stdout",
     "output_type": "stream",
     "text": [
      "[['O', 'B-DiagnosticProcedure', 'I-DiagnosticProcedure', 'O', 'O', 'O', 'O', 'O', 'O', 'O', 'O', 'O', 'O', 'O', 'O', 'O', 'O', 'O', 'O', 'O', 'O', 'O', 'O', 'O', 'O', 'O', 'O', 'O', 'O', 'O', 'O', 'O', 'O', 'O', 'O', 'O', 'O', 'O', 'O', 'O', 'O', 'O', 'O', 'O', 'O', 'O', 'O', 'O', 'O', 'O', 'O', 'O', 'O', 'O', 'O', 'O', 'O', 'O', 'O', 'O', 'O', 'O', 'O', 'O', 'O', 'O', 'O', 'O', 'O', 'O', 'O', 'O', 'O', 'O', 'O', 'O', 'O', 'O', 'O', 'O', 'O', 'O', 'O', 'O', 'O', 'O', 'O', 'O', 'O', 'O', 'O', 'O', 'O', 'O', 'O', 'O', 'O', 'O', 'O', 'O', 'O', 'O', 'O', 'O'], ['O', 'O', 'O', 'O', 'O', 'O', 'O', 'O', 'O', 'O', 'O', 'O', 'O', 'O', 'O', 'O', 'O', 'O', 'O', 'O', 'O', 'O', 'O', 'O', 'O', 'O', 'O', 'O', 'O', 'O', 'O', 'O', 'O', 'O', 'O', 'O', 'O', 'O', 'O', 'O', 'O', 'O', 'O', 'O', 'O', 'O', 'O', 'O', 'O', 'O', 'O', 'O', 'O', 'O', 'O', 'O', 'O', 'O', 'O', 'O', 'O', 'O', 'O', 'O', 'O', 'O', 'O', 'O', 'O', 'O', 'O', 'O', 'O', 'O', 'O', 'O', 'O', 'O', 'O', 'O', 'O', 'O', 'O', 'O', 'O', 'O', 'O', 'O', 'O', 'O', 'O', 'O', 'O', 'O', 'O', 'O', 'O', 'O', 'O', 'O', 'O', 'O', 'O', 'O'], ['O', 'O', 'O', 'O', 'O', 'O', 'O', 'O', 'O', 'O', 'O', 'O', 'O', 'O', 'O', 'O', 'O', 'O', 'O', 'O', 'O', 'O', 'O', 'O', 'O', 'O', 'O', 'O', 'O', 'O', 'O', 'O', 'O', 'O', 'O', 'O', 'O', 'O', 'O', 'O', 'O', 'O', 'O', 'O', 'O', 'O', 'O', 'O', 'O', 'O', 'B-SignOrSymptom', 'I-SignOrSymptom', 'I-SignOrSymptom', 'O', 'O', 'O', 'O', 'O', 'O', 'O', 'O', 'O', 'O', 'O', 'O', 'O', 'O', 'O', 'O', 'O', 'O', 'O', 'O', 'O', 'O', 'O', 'O', 'O', 'O', 'O', 'O', 'O', 'O', 'O', 'O', 'O', 'O', 'O', 'O', 'O', 'O', 'O', 'O', 'O', 'O', 'O', 'O', 'O', 'O', 'O', 'O', 'O', 'O', 'O'], ['O', 'O', 'O', 'O', 'O', 'O', 'O', 'O', 'O', 'O', 'O', 'O', 'O', 'O', 'O', 'O', 'O', 'O', 'O', 'O', 'O', 'O', 'O', 'O', 'O', 'O', 'O', 'O', 'O', 'O', 'O', 'O', 'O', 'O', 'O', 'O', 'O', 'O', 'O', 'O', 'O', 'O', 'O', 'O', 'O', 'O', 'O', 'O', 'O', 'O', 'B-Disorder', 'I-Disorder', 'I-Disorder', 'O', 'O', 'O', 'O', 'O', 'O', 'O', 'O', 'O', 'O', 'O', 'O', 'O', 'O', 'O', 'O', 'O', 'O', 'O', 'O', 'O', 'O', 'O', 'O', 'O', 'O', 'O', 'O', 'O', 'O', 'O', 'O', 'O', 'O', 'O', 'B-Disorder', 'O', 'O', 'O', 'O', 'O', 'O', 'O', 'O', 'O', 'O', 'O', 'O', 'O', 'O', 'O'], ['O', 'O', 'O', 'O', 'O', 'O', 'O', 'O', 'O', 'O', 'O', 'O', 'O', 'O', 'O', 'O', 'O', 'O', 'O', 'O', 'O', 'O', 'O', 'O', 'O', 'O', 'O', 'O', 'O', 'O', 'O', 'O', 'O', 'O', 'O', 'O', 'O', 'O', 'O', 'O', 'O', 'O', 'O', 'O', 'O', 'O', 'O', 'O', 'O', 'O', 'O', 'O', 'O', 'O', 'O', 'O', 'O', 'O', 'O', 'O', 'O', 'O', 'O', 'O', 'O', 'O', 'O', 'O', 'O', 'O', 'O', 'O', 'O', 'O', 'O', 'O', 'O', 'O', 'B-Finding', 'I-Finding', 'I-Finding', 'O', 'B-Finding', 'I-Finding', 'I-Finding', 'O', 'O', 'O', 'O', 'O', 'O', 'O', 'O', 'O', 'O', 'O', 'O', 'B-Finding', 'O', 'O', 'O', 'O', 'O', 'O']]\n"
     ]
    }
   ],
   "source": [
    "print(all_entities)"
   ]
  },
  {
   "cell_type": "code",
   "execution_count": 275,
   "metadata": {},
   "outputs": [
    {
     "data": {
      "text/plain": [
       "[1, 2, 50, 51, 51, 50, 78, 79, 79, 78, 79, 79, 78]"
      ]
     },
     "execution_count": 275,
     "metadata": {},
     "output_type": "execute_result"
    }
   ],
   "source": [
    "entities_index"
   ]
  }
 ],
 "metadata": {
  "kernelspec": {
   "display_name": "Python 3 (ipykernel)",
   "language": "python",
   "name": "python3"
  },
  "language_info": {
   "codemirror_mode": {
    "name": "ipython",
    "version": 3
   },
   "file_extension": ".py",
   "mimetype": "text/x-python",
   "name": "python",
   "nbconvert_exporter": "python",
   "pygments_lexer": "ipython3",
   "version": "3.8.5"
  }
 },
 "nbformat": 4,
 "nbformat_minor": 4
}
